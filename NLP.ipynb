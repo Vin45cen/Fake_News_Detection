{
  "cells": [
    {
      "cell_type": "markdown",
      "metadata": {
        "id": "KeyhEbS7EI7z"
      },
      "source": [
        "**Import all the necessary libraries**"
      ]
    },
    {
      "cell_type": "code",
      "execution_count": null,
      "metadata": {},
      "outputs": [],
      "source": [
        "# !pip install blis\n",
        "# !pip install spacy\n",
        "# python -m spacy download en_core_web_sm\n",
        "# !pip uninstall pandas\n",
        "# !pip install pandas==1.5 matplotlib==3.6\n",
        "# !python -m spacy download en_core_web_sm\n",
        "# !pip install streamlit\n"
      ]
    },
    {
      "cell_type": "code",
      "execution_count": 2,
      "metadata": {
        "id": "q6F72F3vG1Ci"
      },
      "outputs": [],
      "source": [
        "import pandas as pd\n",
        "import numpy as np\n",
        "import matplotlib.pyplot as plt\n",
        "import seaborn as sbs\n",
        "import re\n",
        "from nltk.corpus import stopwords\n",
        "from nltk.stem.porter import PorterStemmer\n",
        "from sklearn.feature_extraction.text import TfidfVectorizer\n",
        "from sklearn.model_selection import train_test_split, StratifiedKFold, cross_val_score\n",
        "from sklearn.metrics import confusion_matrix, ConfusionMatrixDisplay, log_loss, classification_report, accuracy_score,  roc_auc_score, roc_curve, auc\n",
        "from PIL import Image\n",
        "from wordcloud import WordCloud, STOPWORDS, ImageColorGenerator\n",
        "from sklearn.ensemble import RandomForestClassifier\n",
        "from sklearn.linear_model import LogisticRegression\n",
        "from sklearn.ensemble import GradientBoostingClassifier\n",
        "from sklearn.model_selection import GridSearchCV\n",
        "import pickle\n",
        "from sklearn.pipeline import Pipeline\n",
        "from sklearn.preprocessing import FunctionTransformer"
      ]
    },
    {
      "cell_type": "markdown",
      "metadata": {
        "id": "TNnHYZwFEz4c"
      },
      "source": [
        "**Importing The Data**"
      ]
    },
    {
      "cell_type": "code",
      "execution_count": 3,
      "metadata": {
        "colab": {
          "base_uri": "https://localhost:8080/"
        },
        "id": "cus1UglUG7EE",
        "outputId": "873f0c78-58e2-4bea-a3c8-f79d50956279"
      },
      "outputs": [
        {
          "data": {
            "text/plain": [
              "((23481, 5), (21417, 5))"
            ]
          },
          "execution_count": 3,
          "metadata": {},
          "output_type": "execute_result"
        }
      ],
      "source": [
        "df_fake = pd.read_csv(\"Fake.csv\")\n",
        "df_true = pd.read_csv(\"True.csv\")\n",
        "df_fake['Label']='Fake'\n",
        "df_true['Label']='True'\n",
        "df_fake.shape, df_true.shape"
      ]
    },
    {
      "cell_type": "markdown",
      "metadata": {
        "id": "t_eyD-V1E87f"
      },
      "source": [
        "**Observation:**\n",
        "\n",
        "*Here we observe that nearly all of the true texts contain the word \"Reuters\". This presence may lead to overfitting during model training. Hence, we will need to remove it during the data preprocessing stage.*"
      ]
    },
    {
      "cell_type": "code",
      "execution_count": 4,
      "metadata": {
        "colab": {
          "base_uri": "https://localhost:8080/"
        },
        "id": "f_nZKNxGHxNB",
        "outputId": "cdedd594-c752-43b7-d1ac-62423d855ca9"
      },
      "outputs": [
        {
          "data": {
            "text/plain": [
              "21247"
            ]
          },
          "execution_count": 4,
          "metadata": {},
          "output_type": "execute_result"
        }
      ],
      "source": [
        "j=0\n",
        "for i in df_true['text']:\n",
        "    if '(Reuters)' in i:\n",
        "        j+=1\n",
        "j"
      ]
    },
    {
      "cell_type": "markdown",
      "metadata": {
        "id": "UH4-gxphFEoE"
      },
      "source": [
        "**Manual Testing Dataset**"
      ]
    },
    {
      "cell_type": "code",
      "execution_count": 5,
      "metadata": {
        "colab": {
          "base_uri": "https://localhost:8080/"
        },
        "id": "Jpsk2wYsHzpl",
        "outputId": "f3501906-e2bd-4308-ee6a-f2eb5c793428"
      },
      "outputs": [
        {
          "data": {
            "text/plain": [
              "((23471, 5), (21406, 5))"
            ]
          },
          "execution_count": 5,
          "metadata": {},
          "output_type": "execute_result"
        }
      ],
      "source": [
        "df_manual=pd.DataFrame()\n",
        "df_manual['title']=''\n",
        "df_manual['text']=''\n",
        "df_manual['subject']=''\n",
        "df_manual['date']=''\n",
        "df_manual['Label']=''\n",
        "\n",
        "\n",
        "for i in range(516,526):\n",
        "    df_manual.loc[len(df_manual)]= df_fake.loc[i]\n",
        "    df_fake.drop(index=i, inplace=True, axis='index')\n",
        "for i in range(487,498):\n",
        "    df_manual.loc[len(df_manual)]= df_true.loc[i]\n",
        "    df_true.drop(index=i, inplace=True, axis='index')\n",
        "df_fake.shape, df_true.shape"
      ]
    },
    {
      "cell_type": "markdown",
      "metadata": {
        "id": "92WU7wBQFGVw"
      },
      "source": [
        "**Combining The Dataset**"
      ]
    },
    {
      "cell_type": "code",
      "execution_count": 6,
      "metadata": {
        "colab": {
          "base_uri": "https://localhost:8080/",
          "height": 423
        },
        "id": "0Us5saFjH3J0",
        "outputId": "de92a403-c2b6-4d39-f889-5eb237ce3038"
      },
      "outputs": [
        {
          "data": {
            "text/html": [
              "<div>\n",
              "<style scoped>\n",
              "    .dataframe tbody tr th:only-of-type {\n",
              "        vertical-align: middle;\n",
              "    }\n",
              "\n",
              "    .dataframe tbody tr th {\n",
              "        vertical-align: top;\n",
              "    }\n",
              "\n",
              "    .dataframe thead th {\n",
              "        text-align: right;\n",
              "    }\n",
              "</style>\n",
              "<table border=\"1\" class=\"dataframe\">\n",
              "  <thead>\n",
              "    <tr style=\"text-align: right;\">\n",
              "      <th></th>\n",
              "      <th>title</th>\n",
              "      <th>text</th>\n",
              "      <th>subject</th>\n",
              "      <th>date</th>\n",
              "      <th>Label</th>\n",
              "    </tr>\n",
              "  </thead>\n",
              "  <tbody>\n",
              "    <tr>\n",
              "      <th>0</th>\n",
              "      <td>Donald Trump Sends Out Embarrassing New Year’...</td>\n",
              "      <td>Donald Trump just couldn t wish all Americans ...</td>\n",
              "      <td>News</td>\n",
              "      <td>December 31, 2017</td>\n",
              "      <td>Fake</td>\n",
              "    </tr>\n",
              "    <tr>\n",
              "      <th>1</th>\n",
              "      <td>Drunk Bragging Trump Staffer Started Russian ...</td>\n",
              "      <td>House Intelligence Committee Chairman Devin Nu...</td>\n",
              "      <td>News</td>\n",
              "      <td>December 31, 2017</td>\n",
              "      <td>Fake</td>\n",
              "    </tr>\n",
              "    <tr>\n",
              "      <th>2</th>\n",
              "      <td>Sheriff David Clarke Becomes An Internet Joke...</td>\n",
              "      <td>On Friday, it was revealed that former Milwauk...</td>\n",
              "      <td>News</td>\n",
              "      <td>December 30, 2017</td>\n",
              "      <td>Fake</td>\n",
              "    </tr>\n",
              "    <tr>\n",
              "      <th>3</th>\n",
              "      <td>Trump Is So Obsessed He Even Has Obama’s Name...</td>\n",
              "      <td>On Christmas day, Donald Trump announced that ...</td>\n",
              "      <td>News</td>\n",
              "      <td>December 29, 2017</td>\n",
              "      <td>Fake</td>\n",
              "    </tr>\n",
              "    <tr>\n",
              "      <th>4</th>\n",
              "      <td>Pope Francis Just Called Out Donald Trump Dur...</td>\n",
              "      <td>Pope Francis used his annual Christmas Day mes...</td>\n",
              "      <td>News</td>\n",
              "      <td>December 25, 2017</td>\n",
              "      <td>Fake</td>\n",
              "    </tr>\n",
              "    <tr>\n",
              "      <th>...</th>\n",
              "      <td>...</td>\n",
              "      <td>...</td>\n",
              "      <td>...</td>\n",
              "      <td>...</td>\n",
              "      <td>...</td>\n",
              "    </tr>\n",
              "    <tr>\n",
              "      <th>21412</th>\n",
              "      <td>'Fully committed' NATO backs new U.S. approach...</td>\n",
              "      <td>BRUSSELS (Reuters) - NATO allies on Tuesday we...</td>\n",
              "      <td>worldnews</td>\n",
              "      <td>August 22, 2017</td>\n",
              "      <td>True</td>\n",
              "    </tr>\n",
              "    <tr>\n",
              "      <th>21413</th>\n",
              "      <td>LexisNexis withdrew two products from Chinese ...</td>\n",
              "      <td>LONDON (Reuters) - LexisNexis, a provider of l...</td>\n",
              "      <td>worldnews</td>\n",
              "      <td>August 22, 2017</td>\n",
              "      <td>True</td>\n",
              "    </tr>\n",
              "    <tr>\n",
              "      <th>21414</th>\n",
              "      <td>Minsk cultural hub becomes haven from authorities</td>\n",
              "      <td>MINSK (Reuters) - In the shadow of disused Sov...</td>\n",
              "      <td>worldnews</td>\n",
              "      <td>August 22, 2017</td>\n",
              "      <td>True</td>\n",
              "    </tr>\n",
              "    <tr>\n",
              "      <th>21415</th>\n",
              "      <td>Vatican upbeat on possibility of Pope Francis ...</td>\n",
              "      <td>MOSCOW (Reuters) - Vatican Secretary of State ...</td>\n",
              "      <td>worldnews</td>\n",
              "      <td>August 22, 2017</td>\n",
              "      <td>True</td>\n",
              "    </tr>\n",
              "    <tr>\n",
              "      <th>21416</th>\n",
              "      <td>Indonesia to buy $1.14 billion worth of Russia...</td>\n",
              "      <td>JAKARTA (Reuters) - Indonesia will buy 11 Sukh...</td>\n",
              "      <td>worldnews</td>\n",
              "      <td>August 22, 2017</td>\n",
              "      <td>True</td>\n",
              "    </tr>\n",
              "  </tbody>\n",
              "</table>\n",
              "<p>44877 rows × 5 columns</p>\n",
              "</div>"
            ],
            "text/plain": [
              "                                                   title  \\\n",
              "0       Donald Trump Sends Out Embarrassing New Year’...   \n",
              "1       Drunk Bragging Trump Staffer Started Russian ...   \n",
              "2       Sheriff David Clarke Becomes An Internet Joke...   \n",
              "3       Trump Is So Obsessed He Even Has Obama’s Name...   \n",
              "4       Pope Francis Just Called Out Donald Trump Dur...   \n",
              "...                                                  ...   \n",
              "21412  'Fully committed' NATO backs new U.S. approach...   \n",
              "21413  LexisNexis withdrew two products from Chinese ...   \n",
              "21414  Minsk cultural hub becomes haven from authorities   \n",
              "21415  Vatican upbeat on possibility of Pope Francis ...   \n",
              "21416  Indonesia to buy $1.14 billion worth of Russia...   \n",
              "\n",
              "                                                    text    subject  \\\n",
              "0      Donald Trump just couldn t wish all Americans ...       News   \n",
              "1      House Intelligence Committee Chairman Devin Nu...       News   \n",
              "2      On Friday, it was revealed that former Milwauk...       News   \n",
              "3      On Christmas day, Donald Trump announced that ...       News   \n",
              "4      Pope Francis used his annual Christmas Day mes...       News   \n",
              "...                                                  ...        ...   \n",
              "21412  BRUSSELS (Reuters) - NATO allies on Tuesday we...  worldnews   \n",
              "21413  LONDON (Reuters) - LexisNexis, a provider of l...  worldnews   \n",
              "21414  MINSK (Reuters) - In the shadow of disused Sov...  worldnews   \n",
              "21415  MOSCOW (Reuters) - Vatican Secretary of State ...  worldnews   \n",
              "21416  JAKARTA (Reuters) - Indonesia will buy 11 Sukh...  worldnews   \n",
              "\n",
              "                    date Label  \n",
              "0      December 31, 2017  Fake  \n",
              "1      December 31, 2017  Fake  \n",
              "2      December 30, 2017  Fake  \n",
              "3      December 29, 2017  Fake  \n",
              "4      December 25, 2017  Fake  \n",
              "...                  ...   ...  \n",
              "21412   August 22, 2017   True  \n",
              "21413   August 22, 2017   True  \n",
              "21414   August 22, 2017   True  \n",
              "21415   August 22, 2017   True  \n",
              "21416   August 22, 2017   True  \n",
              "\n",
              "[44877 rows x 5 columns]"
            ]
          },
          "execution_count": 6,
          "metadata": {},
          "output_type": "execute_result"
        }
      ],
      "source": [
        "df_train= pd.concat([df_fake, df_true], axis=0)\n",
        "df_train"
      ]
    },
    {
      "cell_type": "code",
      "execution_count": 7,
      "metadata": {
        "id": "3z6C6YExH625"
      },
      "outputs": [],
      "source": [
        "df_train=df_train.sample(frac=0.5)"
      ]
    },
    {
      "cell_type": "markdown",
      "metadata": {
        "id": "RZJ0BztlFW7a"
      },
      "source": [
        "**Preprocessing Data**"
      ]
    },
    {
      "cell_type": "code",
      "execution_count": 8,
      "metadata": {
        "colab": {
          "base_uri": "https://localhost:8080/"
        },
        "id": "3I_NVUORH8xN",
        "outputId": "7e457dd1-0ddc-41cb-c448-5f3df6b7b929"
      },
      "outputs": [
        {
          "data": {
            "text/plain": [
              "(22438, 5)"
            ]
          },
          "execution_count": 8,
          "metadata": {},
          "output_type": "execute_result"
        }
      ],
      "source": [
        "df_train.shape"
      ]
    },
    {
      "cell_type": "code",
      "execution_count": 9,
      "metadata": {
        "colab": {
          "base_uri": "https://localhost:8080/",
          "height": 175
        },
        "id": "gMl0OU_aIAVx",
        "outputId": "9cc91968-9ec6-44b1-87bf-c0b3b2843ef6"
      },
      "outputs": [
        {
          "data": {
            "text/html": [
              "<div>\n",
              "<style scoped>\n",
              "    .dataframe tbody tr th:only-of-type {\n",
              "        vertical-align: middle;\n",
              "    }\n",
              "\n",
              "    .dataframe tbody tr th {\n",
              "        vertical-align: top;\n",
              "    }\n",
              "\n",
              "    .dataframe thead th {\n",
              "        text-align: right;\n",
              "    }\n",
              "</style>\n",
              "<table border=\"1\" class=\"dataframe\">\n",
              "  <thead>\n",
              "    <tr style=\"text-align: right;\">\n",
              "      <th></th>\n",
              "      <th>title</th>\n",
              "      <th>text</th>\n",
              "      <th>subject</th>\n",
              "      <th>date</th>\n",
              "      <th>Label</th>\n",
              "    </tr>\n",
              "  </thead>\n",
              "  <tbody>\n",
              "    <tr>\n",
              "      <th>count</th>\n",
              "      <td>22438</td>\n",
              "      <td>22438</td>\n",
              "      <td>22438</td>\n",
              "      <td>22438</td>\n",
              "      <td>22438</td>\n",
              "    </tr>\n",
              "    <tr>\n",
              "      <th>unique</th>\n",
              "      <td>20835</td>\n",
              "      <td>20646</td>\n",
              "      <td>8</td>\n",
              "      <td>2358</td>\n",
              "      <td>2</td>\n",
              "    </tr>\n",
              "    <tr>\n",
              "      <th>top</th>\n",
              "      <td>Highlights: The Trump presidency on April 13 a...</td>\n",
              "      <td></td>\n",
              "      <td>politicsNews</td>\n",
              "      <td>December 20, 2017</td>\n",
              "      <td>Fake</td>\n",
              "    </tr>\n",
              "    <tr>\n",
              "      <th>freq</th>\n",
              "      <td>5</td>\n",
              "      <td>319</td>\n",
              "      <td>5609</td>\n",
              "      <td>90</td>\n",
              "      <td>11765</td>\n",
              "    </tr>\n",
              "  </tbody>\n",
              "</table>\n",
              "</div>"
            ],
            "text/plain": [
              "                                                    title   text  \\\n",
              "count                                               22438  22438   \n",
              "unique                                              20835  20646   \n",
              "top     Highlights: The Trump presidency on April 13 a...          \n",
              "freq                                                    5    319   \n",
              "\n",
              "             subject                date  Label  \n",
              "count          22438               22438  22438  \n",
              "unique             8                2358      2  \n",
              "top     politicsNews  December 20, 2017    Fake  \n",
              "freq            5609                  90  11765  "
            ]
          },
          "execution_count": 9,
          "metadata": {},
          "output_type": "execute_result"
        }
      ],
      "source": [
        "df_train.describe()"
      ]
    },
    {
      "cell_type": "code",
      "execution_count": 10,
      "metadata": {
        "colab": {
          "base_uri": "https://localhost:8080/",
          "height": 293
        },
        "id": "yClLyZteIEHa",
        "outputId": "9a62822f-98bd-4d12-fa43-0545a61d702f"
      },
      "outputs": [
        {
          "data": {
            "text/html": [
              "<div>\n",
              "<style scoped>\n",
              "    .dataframe tbody tr th:only-of-type {\n",
              "        vertical-align: middle;\n",
              "    }\n",
              "\n",
              "    .dataframe tbody tr th {\n",
              "        vertical-align: top;\n",
              "    }\n",
              "\n",
              "    .dataframe thead th {\n",
              "        text-align: right;\n",
              "    }\n",
              "</style>\n",
              "<table border=\"1\" class=\"dataframe\">\n",
              "  <thead>\n",
              "    <tr style=\"text-align: right;\">\n",
              "      <th></th>\n",
              "      <th>title</th>\n",
              "      <th>text</th>\n",
              "      <th>subject</th>\n",
              "      <th>date</th>\n",
              "      <th>Label</th>\n",
              "    </tr>\n",
              "  </thead>\n",
              "  <tbody>\n",
              "    <tr>\n",
              "      <th>17654</th>\n",
              "      <td>WOW! JEB BUSH Claims Roy Moore Should “Step As...</td>\n",
              "      <td>Monday on CNBC, former Gov. Jeb Bush (R-FL) sa...</td>\n",
              "      <td>left-news</td>\n",
              "      <td>Nov 13, 2017</td>\n",
              "      <td>Fake</td>\n",
              "    </tr>\n",
              "    <tr>\n",
              "      <th>16040</th>\n",
              "      <td>Blast in Afghan capital causes numerous casual...</td>\n",
              "      <td>KABUL (Reuters) - A blast in the Afghan capita...</td>\n",
              "      <td>worldnews</td>\n",
              "      <td>October 31, 2017</td>\n",
              "      <td>True</td>\n",
              "    </tr>\n",
              "    <tr>\n",
              "      <th>9452</th>\n",
              "      <td>Lawmakers vote down LGBT rights measure</td>\n",
              "      <td>WASHINGTON (Reuters) - Shouts of “Shame, shame...</td>\n",
              "      <td>politicsNews</td>\n",
              "      <td>May 19, 2016</td>\n",
              "      <td>True</td>\n",
              "    </tr>\n",
              "    <tr>\n",
              "      <th>3705</th>\n",
              "      <td>Trump’s New York Times Meeting Ends In DISAST...</td>\n",
              "      <td>Donald Trump s Tuesday meeting with The New Yo...</td>\n",
              "      <td>News</td>\n",
              "      <td>November 22, 2016</td>\n",
              "      <td>Fake</td>\n",
              "    </tr>\n",
              "    <tr>\n",
              "      <th>13443</th>\n",
              "      <td>HYPOCRITES! CHECK OUT Massive Structure Party ...</td>\n",
              "      <td>It s interesting how the media has completely ...</td>\n",
              "      <td>politics</td>\n",
              "      <td>Jul 24, 2016</td>\n",
              "      <td>Fake</td>\n",
              "    </tr>\n",
              "  </tbody>\n",
              "</table>\n",
              "</div>"
            ],
            "text/plain": [
              "                                                   title  \\\n",
              "17654  WOW! JEB BUSH Claims Roy Moore Should “Step As...   \n",
              "16040  Blast in Afghan capital causes numerous casual...   \n",
              "9452             Lawmakers vote down LGBT rights measure   \n",
              "3705    Trump’s New York Times Meeting Ends In DISAST...   \n",
              "13443  HYPOCRITES! CHECK OUT Massive Structure Party ...   \n",
              "\n",
              "                                                    text       subject  \\\n",
              "17654  Monday on CNBC, former Gov. Jeb Bush (R-FL) sa...     left-news   \n",
              "16040  KABUL (Reuters) - A blast in the Afghan capita...     worldnews   \n",
              "9452   WASHINGTON (Reuters) - Shouts of “Shame, shame...  politicsNews   \n",
              "3705   Donald Trump s Tuesday meeting with The New Yo...          News   \n",
              "13443  It s interesting how the media has completely ...      politics   \n",
              "\n",
              "                    date Label  \n",
              "17654       Nov 13, 2017  Fake  \n",
              "16040  October 31, 2017   True  \n",
              "9452       May 19, 2016   True  \n",
              "3705   November 22, 2016  Fake  \n",
              "13443       Jul 24, 2016  Fake  "
            ]
          },
          "execution_count": 10,
          "metadata": {},
          "output_type": "execute_result"
        }
      ],
      "source": [
        "df_train.head(5)"
      ]
    },
    {
      "cell_type": "code",
      "execution_count": 11,
      "metadata": {
        "colab": {
          "base_uri": "https://localhost:8080/"
        },
        "id": "-1xyw2epIKuG",
        "outputId": "1272827d-79c5-4467-fffb-187415158556"
      },
      "outputs": [
        {
          "data": {
            "text/plain": [
              "title      0\n",
              "text       0\n",
              "subject    0\n",
              "date       0\n",
              "Label      0\n",
              "dtype: int64"
            ]
          },
          "execution_count": 11,
          "metadata": {},
          "output_type": "execute_result"
        }
      ],
      "source": [
        "df_train.fillna('', inplace=True)\n",
        "df_train.isna().sum()"
      ]
    },
    {
      "cell_type": "code",
      "execution_count": 12,
      "metadata": {
        "colab": {
          "base_uri": "https://localhost:8080/"
        },
        "id": "seWl0FNUIRnC",
        "outputId": "94bb5faf-e067-4a49-c01d-182af9ca5cc3"
      },
      "outputs": [
        {
          "data": {
            "text/plain": [
              "0"
            ]
          },
          "execution_count": 12,
          "metadata": {},
          "output_type": "execute_result"
        }
      ],
      "source": [
        "df_train.drop_duplicates(inplace=True)\n",
        "df_train.duplicated().sum()"
      ]
    },
    {
      "cell_type": "code",
      "execution_count": 13,
      "metadata": {
        "colab": {
          "base_uri": "https://localhost:8080/",
          "height": 597
        },
        "id": "auV5HkXnIjmL",
        "outputId": "5f07f55a-ceb0-4180-ab57-09b2b5058c0e"
      },
      "outputs": [
        {
          "data": {
            "text/html": [
              "<div>\n",
              "<style scoped>\n",
              "    .dataframe tbody tr th:only-of-type {\n",
              "        vertical-align: middle;\n",
              "    }\n",
              "\n",
              "    .dataframe tbody tr th {\n",
              "        vertical-align: top;\n",
              "    }\n",
              "\n",
              "    .dataframe thead th {\n",
              "        text-align: right;\n",
              "    }\n",
              "</style>\n",
              "<table border=\"1\" class=\"dataframe\">\n",
              "  <thead>\n",
              "    <tr style=\"text-align: right;\">\n",
              "      <th></th>\n",
              "      <th>index</th>\n",
              "      <th>title</th>\n",
              "      <th>text</th>\n",
              "      <th>subject</th>\n",
              "      <th>date</th>\n",
              "      <th>Label</th>\n",
              "    </tr>\n",
              "  </thead>\n",
              "  <tbody>\n",
              "    <tr>\n",
              "      <th>0</th>\n",
              "      <td>17654</td>\n",
              "      <td>WOW! JEB BUSH Claims Roy Moore Should “Step As...</td>\n",
              "      <td>Monday on CNBC, former Gov. Jeb Bush (R-FL) sa...</td>\n",
              "      <td>left-news</td>\n",
              "      <td>Nov 13, 2017</td>\n",
              "      <td>Fake</td>\n",
              "    </tr>\n",
              "    <tr>\n",
              "      <th>1</th>\n",
              "      <td>16040</td>\n",
              "      <td>Blast in Afghan capital causes numerous casual...</td>\n",
              "      <td>KABUL (Reuters) - A blast in the Afghan capita...</td>\n",
              "      <td>worldnews</td>\n",
              "      <td>October 31, 2017</td>\n",
              "      <td>True</td>\n",
              "    </tr>\n",
              "    <tr>\n",
              "      <th>2</th>\n",
              "      <td>9452</td>\n",
              "      <td>Lawmakers vote down LGBT rights measure</td>\n",
              "      <td>WASHINGTON (Reuters) - Shouts of “Shame, shame...</td>\n",
              "      <td>politicsNews</td>\n",
              "      <td>May 19, 2016</td>\n",
              "      <td>True</td>\n",
              "    </tr>\n",
              "    <tr>\n",
              "      <th>3</th>\n",
              "      <td>3705</td>\n",
              "      <td>Trump’s New York Times Meeting Ends In DISAST...</td>\n",
              "      <td>Donald Trump s Tuesday meeting with The New Yo...</td>\n",
              "      <td>News</td>\n",
              "      <td>November 22, 2016</td>\n",
              "      <td>Fake</td>\n",
              "    </tr>\n",
              "    <tr>\n",
              "      <th>4</th>\n",
              "      <td>13443</td>\n",
              "      <td>HYPOCRITES! CHECK OUT Massive Structure Party ...</td>\n",
              "      <td>It s interesting how the media has completely ...</td>\n",
              "      <td>politics</td>\n",
              "      <td>Jul 24, 2016</td>\n",
              "      <td>Fake</td>\n",
              "    </tr>\n",
              "    <tr>\n",
              "      <th>...</th>\n",
              "      <td>...</td>\n",
              "      <td>...</td>\n",
              "      <td>...</td>\n",
              "      <td>...</td>\n",
              "      <td>...</td>\n",
              "      <td>...</td>\n",
              "    </tr>\n",
              "    <tr>\n",
              "      <th>22377</th>\n",
              "      <td>21629</td>\n",
              "      <td>THE DEMOCRAT WHO WROTE A PAPER About How Women...</td>\n",
              "      <td>The producers vs. the looters The man honeymoo...</td>\n",
              "      <td>left-news</td>\n",
              "      <td>Jun 22, 2015</td>\n",
              "      <td>Fake</td>\n",
              "    </tr>\n",
              "    <tr>\n",
              "      <th>22378</th>\n",
              "      <td>17405</td>\n",
              "      <td>5-Star Mooch and Free-Loading Granny Drop In F...</td>\n",
              "      <td>Nothing but the best for the queen and the que...</td>\n",
              "      <td>Government News</td>\n",
              "      <td>Apr 20, 2015</td>\n",
              "      <td>Fake</td>\n",
              "    </tr>\n",
              "    <tr>\n",
              "      <th>22379</th>\n",
              "      <td>18375</td>\n",
              "      <td>Spain's King condemns Catalan leaders as thous...</td>\n",
              "      <td>BARCELONA (Reuters) - Spain s King Felipe VI o...</td>\n",
              "      <td>worldnews</td>\n",
              "      <td>October 3, 2017</td>\n",
              "      <td>True</td>\n",
              "    </tr>\n",
              "    <tr>\n",
              "      <th>22380</th>\n",
              "      <td>5149</td>\n",
              "      <td>Pence used private email while Indiana governor</td>\n",
              "      <td>WASHINGTON (Reuters) - U.S. Vice President Mik...</td>\n",
              "      <td>politicsNews</td>\n",
              "      <td>March 3, 2017</td>\n",
              "      <td>True</td>\n",
              "    </tr>\n",
              "    <tr>\n",
              "      <th>22381</th>\n",
              "      <td>17251</td>\n",
              "      <td>A young Chinese rebel feels the pull of family...</td>\n",
              "      <td>CHENGDU, China (Reuters) - Her stepfather was ...</td>\n",
              "      <td>worldnews</td>\n",
              "      <td>October 17, 2017</td>\n",
              "      <td>True</td>\n",
              "    </tr>\n",
              "  </tbody>\n",
              "</table>\n",
              "<p>22382 rows × 6 columns</p>\n",
              "</div>"
            ],
            "text/plain": [
              "       index                                              title  \\\n",
              "0      17654  WOW! JEB BUSH Claims Roy Moore Should “Step As...   \n",
              "1      16040  Blast in Afghan capital causes numerous casual...   \n",
              "2       9452            Lawmakers vote down LGBT rights measure   \n",
              "3       3705   Trump’s New York Times Meeting Ends In DISAST...   \n",
              "4      13443  HYPOCRITES! CHECK OUT Massive Structure Party ...   \n",
              "...      ...                                                ...   \n",
              "22377  21629  THE DEMOCRAT WHO WROTE A PAPER About How Women...   \n",
              "22378  17405  5-Star Mooch and Free-Loading Granny Drop In F...   \n",
              "22379  18375  Spain's King condemns Catalan leaders as thous...   \n",
              "22380   5149    Pence used private email while Indiana governor   \n",
              "22381  17251  A young Chinese rebel feels the pull of family...   \n",
              "\n",
              "                                                    text          subject  \\\n",
              "0      Monday on CNBC, former Gov. Jeb Bush (R-FL) sa...        left-news   \n",
              "1      KABUL (Reuters) - A blast in the Afghan capita...        worldnews   \n",
              "2      WASHINGTON (Reuters) - Shouts of “Shame, shame...     politicsNews   \n",
              "3      Donald Trump s Tuesday meeting with The New Yo...             News   \n",
              "4      It s interesting how the media has completely ...         politics   \n",
              "...                                                  ...              ...   \n",
              "22377  The producers vs. the looters The man honeymoo...        left-news   \n",
              "22378  Nothing but the best for the queen and the que...  Government News   \n",
              "22379  BARCELONA (Reuters) - Spain s King Felipe VI o...        worldnews   \n",
              "22380  WASHINGTON (Reuters) - U.S. Vice President Mik...     politicsNews   \n",
              "22381  CHENGDU, China (Reuters) - Her stepfather was ...        worldnews   \n",
              "\n",
              "                    date Label  \n",
              "0           Nov 13, 2017  Fake  \n",
              "1      October 31, 2017   True  \n",
              "2          May 19, 2016   True  \n",
              "3      November 22, 2016  Fake  \n",
              "4           Jul 24, 2016  Fake  \n",
              "...                  ...   ...  \n",
              "22377       Jun 22, 2015  Fake  \n",
              "22378       Apr 20, 2015  Fake  \n",
              "22379   October 3, 2017   True  \n",
              "22380     March 3, 2017   True  \n",
              "22381  October 17, 2017   True  \n",
              "\n",
              "[22382 rows x 6 columns]"
            ]
          },
          "execution_count": 13,
          "metadata": {},
          "output_type": "execute_result"
        }
      ],
      "source": [
        "df_train.reset_index(inplace=True)\n",
        "df_train"
      ]
    },
    {
      "cell_type": "markdown",
      "metadata": {
        "id": "W6po2bcfFdrK"
      },
      "source": [
        "**Code to Remove the word \"Reuter\"**"
      ]
    },
    {
      "cell_type": "code",
      "execution_count": 14,
      "metadata": {
        "id": "p5_Lgo1CIpN0"
      },
      "outputs": [],
      "source": [
        "def reuters_removal(text):\n",
        "    reuters_text=''\n",
        "    reuters_text= text.split()\n",
        "    reuters_text= [word for word in reuters_text if not word==\"(Reuters)\"]\n",
        "    reuters_text= [word for word in reuters_text if not word==\"Reuters\"]\n",
        "    reuters_text= \" \".join(reuters_text)\n",
        "    return reuters_text\n",
        "df_train['text']=df_train['text'].apply(reuters_removal)"
      ]
    },
    {
      "cell_type": "code",
      "execution_count": 15,
      "metadata": {
        "colab": {
          "base_uri": "https://localhost:8080/"
        },
        "id": "SkGBzsFzIsUU",
        "outputId": "628e6e14-9058-4148-a9ed-71397c27f80e"
      },
      "outputs": [
        {
          "data": {
            "text/plain": [
              "5"
            ]
          },
          "execution_count": 15,
          "metadata": {},
          "output_type": "execute_result"
        }
      ],
      "source": [
        "j=0\n",
        "for i in df_train.loc[df_train['Label']==\"True\", 'text']:\n",
        "    if '(Reuters)' in i:\n",
        "        j+=1\n",
        "\n",
        "j"
      ]
    },
    {
      "cell_type": "markdown",
      "metadata": {
        "id": "30CG6JVUGbG3"
      },
      "source": [
        "**Data Visualization**"
      ]
    },
    {
      "cell_type": "code",
      "execution_count": 16,
      "metadata": {
        "colab": {
          "base_uri": "https://localhost:8080/",
          "height": 490
        },
        "id": "HLxLc5W-JL5i",
        "outputId": "99bcd2e2-ce25-498f-cc12-22323079f470"
      },
      "outputs": [
        {
          "data": {
            "image/png": "[encoded data removed]",
            "text/plain": [
              "<Figure size 640x480 with 1 Axes>"
            ]
          },
          "metadata": {},
          "output_type": "display_data"
        }
      ],
      "source": [
        "sbs.histplot(x='Label', hue='Label',data=df_train)\n",
        "plt.title('News Label Frequency')\n",
        "plt.xticks(rotation=45)\n",
        "plt.ylabel('Frequency');"
      ]
    },
    {
      "cell_type": "code",
      "execution_count": 17,
      "metadata": {
        "colab": {
          "base_uri": "https://localhost:8080/"
        },
        "id": "VTNAgVqPJQAH",
        "outputId": "51581098-fc4b-4e56-9616-1ade5fc3326b"
      },
      "outputs": [
        {
          "data": {
            "text/plain": [
              "politicsNews       5590\n",
              "worldnews          5028\n",
              "News               4527\n",
              "politics           3423\n",
              "left-news          2244\n",
              "Government News     794\n",
              "US_News             395\n",
              "Middle-east         381\n",
              "Name: subject, dtype: int64"
            ]
          },
          "execution_count": 17,
          "metadata": {},
          "output_type": "execute_result"
        }
      ],
      "source": [
        "df_top=df_train.copy()\n",
        "df_top_group=df_top.subject.value_counts()\n",
        "df_top_group"
      ]
    },
    {
      "cell_type": "code",
      "execution_count": 18,
      "metadata": {
        "colab": {
          "base_uri": "https://localhost:8080/",
          "height": 448
        },
        "id": "ektqk7BPJTkA",
        "outputId": "d3cbec14-aba4-440c-8fda-b12b86b56972"
      },
      "outputs": [
        {
          "data": {
            "image/png": "[encoded data removed]",
            "text/plain": [
              "<Figure size 640x480 with 1 Axes>"
            ]
          },
          "metadata": {},
          "output_type": "display_data"
        }
      ],
      "source": [
        "colors = sbs.color_palette('pastel')[0:6]\n",
        "plt.pie(df_top_group,labels=df_top.subject.unique(),autopct='%.0f%%', colors=colors)\n",
        "plt.title('Subjects Distribution')\n",
        "plt.xlabel('Subjects')\n",
        "plt.legend(df_top.subject.unique(), loc='lower left')\n",
        "plt.show();"
      ]
    },
    {
      "cell_type": "code",
      "execution_count": 19,
      "metadata": {
        "colab": {
          "base_uri": "https://localhost:8080/",
          "height": 586
        },
        "id": "ZIuMdF-zJsi8",
        "outputId": "6f680550-f710-4b99-87ff-49245932566f"
      },
      "outputs": [
        {
          "data": {
            "image/png": "[encoded data removed]",
            "text/plain": [
              "<Figure size 640x480 with 1 Axes>"
            ]
          },
          "metadata": {},
          "output_type": "display_data"
        }
      ],
      "source": [
        "top_parties = df_train['subject'].value_counts().nlargest(5).index\n",
        "df_top=df_train.copy()\n",
        "df_top.loc[~df_top['subject'].isin(top_parties), 'Party'] = 'Other'\n",
        "sbs.histplot(x='subject', hue='Label', data=df_top, stat='count')\n",
        "plt.title('Subjects Frequency')\n",
        "plt.xticks(rotation=90)\n",
        "plt.ylabel('Frequency')\n",
        "plt.show();"
      ]
    },
    {
      "cell_type": "code",
      "execution_count": 20,
      "metadata": {
        "colab": {
          "base_uri": "https://localhost:8080/"
        },
        "id": "Roe4_F-iJzRT",
        "outputId": "0ee735ff-aa06-43ed-da2c-676c51e9bdb3"
      },
      "outputs": [
        {
          "data": {
            "text/plain": [
              "array(['True'], dtype=object)"
            ]
          },
          "execution_count": 20,
          "metadata": {},
          "output_type": "execute_result"
        }
      ],
      "source": [
        "df_train.loc[df_train['subject']==\"politicsNews\",\"Label\"].unique()"
      ]
    },
    {
      "cell_type": "markdown",
      "metadata": {
        "id": "sY6XLQf_GvvZ"
      },
      "source": [
        "**Splitting The Data**\n",
        "\n",
        "*We will split the dataset into training and testing sets. Additionally, we will encode the labels into numerical values to facilitate the calculation of the reliability percentage of the news articles.*"
      ]
    },
    {
      "cell_type": "code",
      "execution_count": 21,
      "metadata": {
        "colab": {
          "base_uri": "https://localhost:8080/"
        },
        "id": "jkrxB_QuJ6Qj",
        "outputId": "23310b6c-1e63-4e7f-ad38-23361133bd34"
      },
      "outputs": [
        {
          "data": {
            "text/plain": [
              "array(['Fake', 'True'], dtype=object)"
            ]
          },
          "execution_count": 21,
          "metadata": {},
          "output_type": "execute_result"
        }
      ],
      "source": [
        "y= df_train['Label']\n",
        "X=df_train.drop(['Label', \"date\",'index'], axis=1)\n",
        "y.unique()"
      ]
    },
    {
      "cell_type": "code",
      "execution_count": 22,
      "metadata": {
        "colab": {
          "base_uri": "https://localhost:8080/",
          "height": 423
        },
        "id": "t7J3irqeJ8Rk",
        "outputId": "d79d0ca1-f11c-49f7-abf9-fc4eca34f515"
      },
      "outputs": [
        {
          "data": {
            "text/html": [
              "<div>\n",
              "<style scoped>\n",
              "    .dataframe tbody tr th:only-of-type {\n",
              "        vertical-align: middle;\n",
              "    }\n",
              "\n",
              "    .dataframe tbody tr th {\n",
              "        vertical-align: top;\n",
              "    }\n",
              "\n",
              "    .dataframe thead th {\n",
              "        text-align: right;\n",
              "    }\n",
              "</style>\n",
              "<table border=\"1\" class=\"dataframe\">\n",
              "  <thead>\n",
              "    <tr style=\"text-align: right;\">\n",
              "      <th></th>\n",
              "      <th>title</th>\n",
              "      <th>text</th>\n",
              "      <th>subject</th>\n",
              "    </tr>\n",
              "  </thead>\n",
              "  <tbody>\n",
              "    <tr>\n",
              "      <th>0</th>\n",
              "      <td>WOW! JEB BUSH Claims Roy Moore Should “Step As...</td>\n",
              "      <td>Monday on CNBC, former Gov. Jeb Bush (R-FL) sa...</td>\n",
              "      <td>left-news</td>\n",
              "    </tr>\n",
              "    <tr>\n",
              "      <th>1</th>\n",
              "      <td>Blast in Afghan capital causes numerous casual...</td>\n",
              "      <td>KABUL - A blast in the Afghan capital Kabul on...</td>\n",
              "      <td>worldnews</td>\n",
              "    </tr>\n",
              "    <tr>\n",
              "      <th>2</th>\n",
              "      <td>Lawmakers vote down LGBT rights measure</td>\n",
              "      <td>WASHINGTON - Shouts of “Shame, shame, shame,” ...</td>\n",
              "      <td>politicsNews</td>\n",
              "    </tr>\n",
              "    <tr>\n",
              "      <th>3</th>\n",
              "      <td>Trump’s New York Times Meeting Ends In DISAST...</td>\n",
              "      <td>Donald Trump s Tuesday meeting with The New Yo...</td>\n",
              "      <td>News</td>\n",
              "    </tr>\n",
              "    <tr>\n",
              "      <th>4</th>\n",
              "      <td>HYPOCRITES! CHECK OUT Massive Structure Party ...</td>\n",
              "      <td>It s interesting how the media has completely ...</td>\n",
              "      <td>politics</td>\n",
              "    </tr>\n",
              "    <tr>\n",
              "      <th>...</th>\n",
              "      <td>...</td>\n",
              "      <td>...</td>\n",
              "      <td>...</td>\n",
              "    </tr>\n",
              "    <tr>\n",
              "      <th>22377</th>\n",
              "      <td>THE DEMOCRAT WHO WROTE A PAPER About How Women...</td>\n",
              "      <td>The producers vs. the looters The man honeymoo...</td>\n",
              "      <td>left-news</td>\n",
              "    </tr>\n",
              "    <tr>\n",
              "      <th>22378</th>\n",
              "      <td>5-Star Mooch and Free-Loading Granny Drop In F...</td>\n",
              "      <td>Nothing but the best for the queen and the que...</td>\n",
              "      <td>Government News</td>\n",
              "    </tr>\n",
              "    <tr>\n",
              "      <th>22379</th>\n",
              "      <td>Spain's King condemns Catalan leaders as thous...</td>\n",
              "      <td>BARCELONA - Spain s King Felipe VI on Tuesday ...</td>\n",
              "      <td>worldnews</td>\n",
              "    </tr>\n",
              "    <tr>\n",
              "      <th>22380</th>\n",
              "      <td>Pence used private email while Indiana governor</td>\n",
              "      <td>WASHINGTON - U.S. Vice President Mike Pence us...</td>\n",
              "      <td>politicsNews</td>\n",
              "    </tr>\n",
              "    <tr>\n",
              "      <th>22381</th>\n",
              "      <td>A young Chinese rebel feels the pull of family...</td>\n",
              "      <td>CHENGDU, China - Her stepfather was dying from...</td>\n",
              "      <td>worldnews</td>\n",
              "    </tr>\n",
              "  </tbody>\n",
              "</table>\n",
              "<p>22382 rows × 3 columns</p>\n",
              "</div>"
            ],
            "text/plain": [
              "                                                   title  \\\n",
              "0      WOW! JEB BUSH Claims Roy Moore Should “Step As...   \n",
              "1      Blast in Afghan capital causes numerous casual...   \n",
              "2                Lawmakers vote down LGBT rights measure   \n",
              "3       Trump’s New York Times Meeting Ends In DISAST...   \n",
              "4      HYPOCRITES! CHECK OUT Massive Structure Party ...   \n",
              "...                                                  ...   \n",
              "22377  THE DEMOCRAT WHO WROTE A PAPER About How Women...   \n",
              "22378  5-Star Mooch and Free-Loading Granny Drop In F...   \n",
              "22379  Spain's King condemns Catalan leaders as thous...   \n",
              "22380    Pence used private email while Indiana governor   \n",
              "22381  A young Chinese rebel feels the pull of family...   \n",
              "\n",
              "                                                    text          subject  \n",
              "0      Monday on CNBC, former Gov. Jeb Bush (R-FL) sa...        left-news  \n",
              "1      KABUL - A blast in the Afghan capital Kabul on...        worldnews  \n",
              "2      WASHINGTON - Shouts of “Shame, shame, shame,” ...     politicsNews  \n",
              "3      Donald Trump s Tuesday meeting with The New Yo...             News  \n",
              "4      It s interesting how the media has completely ...         politics  \n",
              "...                                                  ...              ...  \n",
              "22377  The producers vs. the looters The man honeymoo...        left-news  \n",
              "22378  Nothing but the best for the queen and the que...  Government News  \n",
              "22379  BARCELONA - Spain s King Felipe VI on Tuesday ...        worldnews  \n",
              "22380  WASHINGTON - U.S. Vice President Mike Pence us...     politicsNews  \n",
              "22381  CHENGDU, China - Her stepfather was dying from...        worldnews  \n",
              "\n",
              "[22382 rows x 3 columns]"
            ]
          },
          "execution_count": 22,
          "metadata": {},
          "output_type": "execute_result"
        }
      ],
      "source": [
        "X"
      ]
    },
    {
      "cell_type": "markdown",
      "metadata": {
        "id": "6g3aYHagG0vI"
      },
      "source": [
        "**Stemming and Stop Words**"
      ]
    },
    {
      "cell_type": "code",
      "execution_count": 23,
      "metadata": {
        "colab": {
          "base_uri": "https://localhost:8080/"
        },
        "id": "Jcd0ZMUEI5Xz",
        "outputId": "8bf5dac1-d4d9-428a-94f1-50ee421381c6"
      },
      "outputs": [
        {
          "name": "stderr",
          "output_type": "stream",
          "text": [
            "[nltk_data] Downloading package stopwords to\n",
            "[nltk_data]     C:\\Users\\user\\AppData\\Roaming\\nltk_data...\n",
            "[nltk_data]   Package stopwords is already up-to-date!\n"
          ]
        },
        {
          "data": {
            "text/plain": [
              "True"
            ]
          },
          "execution_count": 23,
          "metadata": {},
          "output_type": "execute_result"
        }
      ],
      "source": [
        "port_stemmer= PorterStemmer()\n",
        "import nltk\n",
        "nltk.download('stopwords')"
      ]
    },
    {
      "cell_type": "code",
      "execution_count": 24,
      "metadata": {
        "colab": {
          "base_uri": "https://localhost:8080/"
        },
        "id": "4-MXDdEVI8IS",
        "outputId": "723ac13c-d568-4382-9335-9d561f2ae679"
      },
      "outputs": [
        {
          "data": {
            "text/plain": [
              "0        Monday CNBC Gov. Jeb Bush R FL say sexual misc...\n",
              "1        KABUL blast afghan capital Kabul Tuesday cause...\n",
              "2        WASHINGTON Shouts Shame shame shame erupt U.S....\n",
              "3        Donald Trump s Tuesday meeting New York Times ...\n",
              "4        s interesting medium completely ignore massive...\n",
              "                               ...                        \n",
              "22377    producer vs. looter man honeymoon communist co...\n",
              "22378    good queen queen s mom mother law President hi...\n",
              "22379    BARCELONA Spain s King Felipe VI Tuesday accus...\n",
              "22380    WASHINGTON U.S. Vice President Mike Pence priv...\n",
              "22381    CHENGDU China stepfather die pulmonary heart d...\n",
              "Name: text, Length: 22382, dtype: object"
            ]
          },
          "execution_count": 24,
          "metadata": {},
          "output_type": "execute_result"
        }
      ],
      "source": [
        "import spacy\n",
        "nlp = spacy.load('en_core_web_sm', disable=['parser', 'ner'])\n",
        "def stemmer(text):\n",
        "    # Process the text\n",
        "    doc = nlp(text)\n",
        "\n",
        "    # Extract the lemma of each token if it is not a stopword or punctuation\n",
        "    return ' '.join([token.lemma_ for token in doc if not token.is_stop and not token.is_punct])\n",
        "X['text']= X['text'].apply(stemmer)\n",
        "X=X['text']\n",
        "X"
      ]
    },
    {
      "cell_type": "markdown",
      "metadata": {
        "id": "abzjz8JOG7Vv"
      },
      "source": [
        "**Train Test Split**"
      ]
    },
    {
      "cell_type": "code",
      "execution_count": 25,
      "metadata": {
        "id": "szTLBOCnPKMM"
      },
      "outputs": [],
      "source": [
        "X_train, X_test, y_train, y_test= train_test_split(X,y, test_size=0.2, random_state=40, stratify=y)"
      ]
    },
    {
      "cell_type": "markdown",
      "metadata": {
        "id": "SOLTQhhzG9pu"
      },
      "source": [
        "**TF-IDF Vectorization**\n",
        "\n",
        "*TF-IDF (Term Frequency-Inverse Document Frequency) is a technique used to represent text data numerically*"
      ]
    },
    {
      "cell_type": "code",
      "execution_count": 26,
      "metadata": {
        "id": "osHflHLrPOjz"
      },
      "outputs": [],
      "source": [
        "vectorization = TfidfVectorizer()\n",
        "xv_train = vectorization.fit_transform(X_train)\n",
        "xv_test = vectorization.transform(X_test)"
      ]
    },
    {
      "cell_type": "markdown",
      "metadata": {
        "id": "LACYE8pSIrnN"
      },
      "source": [
        "**Model Training Using Logistic Regression**"
      ]
    },
    {
      "cell_type": "code",
      "execution_count": 27,
      "metadata": {
        "colab": {
          "base_uri": "https://localhost:8080/",
          "height": 74
        },
        "id": "1MQGgQZJPbMa",
        "outputId": "00b08c67-6267-4aed-e640-2eccc9311bd0"
      },
      "outputs": [
        {
          "data": {
            "text/html": [
              "<style>#sk-container-id-1 {color: black;background-color: white;}#sk-container-id-1 pre{padding: 0;}#sk-container-id-1 div.sk-toggleable {background-color: white;}#sk-container-id-1 label.sk-toggleable__label {cursor: pointer;display: block;width: 100%;margin-bottom: 0;padding: 0.3em;box-sizing: border-box;text-align: center;}#sk-container-id-1 label.sk-toggleable__label-arrow:before {content: \"▸\";float: left;margin-right: 0.25em;color: #696969;}#sk-container-id-1 label.sk-toggleable__label-arrow:hover:before {color: black;}#sk-container-id-1 div.sk-estimator:hover label.sk-toggleable__label-arrow:before {color: black;}#sk-container-id-1 div.sk-toggleable__content {max-height: 0;max-width: 0;overflow: hidden;text-align: left;background-color: #f0f8ff;}#sk-container-id-1 div.sk-toggleable__content pre {margin: 0.2em;color: black;border-radius: 0.25em;background-color: #f0f8ff;}#sk-container-id-1 input.sk-toggleable__control:checked~div.sk-toggleable__content {max-height: 200px;max-width: 100%;overflow: auto;}#sk-container-id-1 input.sk-toggleable__control:checked~label.sk-toggleable__label-arrow:before {content: \"▾\";}#sk-container-id-1 div.sk-estimator input.sk-toggleable__control:checked~label.sk-toggleable__label {background-color: #d4ebff;}#sk-container-id-1 div.sk-label input.sk-toggleable__control:checked~label.sk-toggleable__label {background-color: #d4ebff;}#sk-container-id-1 input.sk-hidden--visually {border: 0;clip: rect(1px 1px 1px 1px);clip: rect(1px, 1px, 1px, 1px);height: 1px;margin: -1px;overflow: hidden;padding: 0;position: absolute;width: 1px;}#sk-container-id-1 div.sk-estimator {font-family: monospace;background-color: #f0f8ff;border: 1px dotted black;border-radius: 0.25em;box-sizing: border-box;margin-bottom: 0.5em;}#sk-container-id-1 div.sk-estimator:hover {background-color: #d4ebff;}#sk-container-id-1 div.sk-parallel-item::after {content: \"\";width: 100%;border-bottom: 1px solid gray;flex-grow: 1;}#sk-container-id-1 div.sk-label:hover label.sk-toggleable__label {background-color: #d4ebff;}#sk-container-id-1 div.sk-serial::before {content: \"\";position: absolute;border-left: 1px solid gray;box-sizing: border-box;top: 0;bottom: 0;left: 50%;z-index: 0;}#sk-container-id-1 div.sk-serial {display: flex;flex-direction: column;align-items: center;background-color: white;padding-right: 0.2em;padding-left: 0.2em;position: relative;}#sk-container-id-1 div.sk-item {position: relative;z-index: 1;}#sk-container-id-1 div.sk-parallel {display: flex;align-items: stretch;justify-content: center;background-color: white;position: relative;}#sk-container-id-1 div.sk-item::before, #sk-container-id-1 div.sk-parallel-item::before {content: \"\";position: absolute;border-left: 1px solid gray;box-sizing: border-box;top: 0;bottom: 0;left: 50%;z-index: -1;}#sk-container-id-1 div.sk-parallel-item {display: flex;flex-direction: column;z-index: 1;position: relative;background-color: white;}#sk-container-id-1 div.sk-parallel-item:first-child::after {align-self: flex-end;width: 50%;}#sk-container-id-1 div.sk-parallel-item:last-child::after {align-self: flex-start;width: 50%;}#sk-container-id-1 div.sk-parallel-item:only-child::after {width: 0;}#sk-container-id-1 div.sk-dashed-wrapped {border: 1px dashed gray;margin: 0 0.4em 0.5em 0.4em;box-sizing: border-box;padding-bottom: 0.4em;background-color: white;}#sk-container-id-1 div.sk-label label {font-family: monospace;font-weight: bold;display: inline-block;line-height: 1.2em;}#sk-container-id-1 div.sk-label-container {text-align: center;}#sk-container-id-1 div.sk-container {/* jupyter's `normalize.less` sets `[hidden] { display: none; }` but bootstrap.min.css set `[hidden] { display: none !important; }` so we also need the `!important` here to be able to override the default hidden behavior on the sphinx rendered scikit-learn.org. See: https://github.com/scikit-learn/scikit-learn/issues/21755 */display: inline-block !important;position: relative;}#sk-container-id-1 div.sk-text-repr-fallback {display: none;}</style><div id=\"sk-container-id-1\" class=\"sk-top-container\"><div class=\"sk-text-repr-fallback\"><pre>LogisticRegression(max_iter=1000)</pre><b>In a Jupyter environment, please rerun this cell to show the HTML representation or trust the notebook. <br />On GitHub, the HTML representation is unable to render, please try loading this page with nbviewer.org.</b></div><div class=\"sk-container\" hidden><div class=\"sk-item\"><div class=\"sk-estimator sk-toggleable\"><input class=\"sk-toggleable__control sk-hidden--visually\" id=\"sk-estimator-id-1\" type=\"checkbox\" checked><label for=\"sk-estimator-id-1\" class=\"sk-toggleable__label sk-toggleable__label-arrow\">LogisticRegression</label><div class=\"sk-toggleable__content\"><pre>LogisticRegression(max_iter=1000)</pre></div></div></div></div></div>"
            ],
            "text/plain": [
              "LogisticRegression(max_iter=1000)"
            ]
          },
          "execution_count": 27,
          "metadata": {},
          "output_type": "execute_result"
        }
      ],
      "source": [
        "lgr=LogisticRegression(max_iter=1000)\n",
        "lgr.fit(xv_train,y_train)"
      ]
    },
    {
      "cell_type": "code",
      "execution_count": 28,
      "metadata": {
        "colab": {
          "base_uri": "https://localhost:8080/"
        },
        "id": "kUfaSlooPeoU",
        "outputId": "8e14ecf0-1750-4ab6-9a91-faadf48da52b"
      },
      "outputs": [
        {
          "name": "stdout",
          "output_type": "stream",
          "text": [
            "Accuracy:  97.7 %\n",
            "              precision    recall  f1-score   support\n",
            "\n",
            "        Fake       0.98      0.97      0.98      2353\n",
            "        True       0.97      0.98      0.98      2124\n",
            "\n",
            "    accuracy                           0.98      4477\n",
            "   macro avg       0.98      0.98      0.98      4477\n",
            "weighted avg       0.98      0.98      0.98      4477\n",
            "\n"
          ]
        }
      ],
      "source": [
        "y_pred=lgr.predict(xv_test)\n",
        "acc = accuracy_score(y_pred,y_test)\n",
        "print(\"Accuracy: \", round(acc*100,1 ), \"%\")\n",
        "print(classification_report(y_test, y_pred))"
      ]
    },
    {
      "cell_type": "markdown",
      "metadata": {
        "id": "ILk8dwgUJOTr"
      },
      "source": [
        "**Testing**"
      ]
    },
    {
      "cell_type": "code",
      "execution_count": 29,
      "metadata": {
        "id": "DMZMiePLPlqq"
      },
      "outputs": [
        {
          "data": {
            "text/plain": [
              "'True'"
            ]
          },
          "execution_count": 29,
          "metadata": {},
          "output_type": "execute_result"
        }
      ],
      "source": [
        "def manual_testing(news):\n",
        "    testing_news = {\"text\":[news]}\n",
        "    new_def_test = pd.DataFrame(testing_news)\n",
        "    new_def_test[\"text\"] = new_def_test[\"text\"].apply(reuters_removal)\n",
        "\n",
        "    new_def_test[\"text\"] = new_def_test[\"text\"].apply(stemmer)\n",
        "    new_x_test = new_def_test[\"text\"]\n",
        "    new_xv_test = vectorization.transform(new_x_test)\n",
        "    prediction= lgr.predict(new_xv_test)\n",
        "    return prediction[0]\n",
        "manual_testing(df_manual.loc[12,'text'])"
      ]
    },
    {
      "cell_type": "code",
      "execution_count": 36,
      "metadata": {},
      "outputs": [
        {
          "name": "stdout",
          "output_type": "stream",
          "text": [
            "Predicted category: Fake\n"
          ]
        }
      ],
      "source": [
        "sample_text = \"As we have become accustomed to, when Arsenal are in need, up steps No. 7 and Bukayo Saka tore apart Southamption at the Emirates, much to the delight of Mikel Arteta.\"\n",
        "print(\"Predicted category:\", manual_testing(sample_text))"
      ]
    },
    {
      "cell_type": "code",
      "execution_count": 30,
      "metadata": {
        "id": "deWgqfsPQIrI"
      },
      "outputs": [
        {
          "data": {
            "text/html": [
              "<div>\n",
              "<style scoped>\n",
              "    .dataframe tbody tr th:only-of-type {\n",
              "        vertical-align: middle;\n",
              "    }\n",
              "\n",
              "    .dataframe tbody tr th {\n",
              "        vertical-align: top;\n",
              "    }\n",
              "\n",
              "    .dataframe thead th {\n",
              "        text-align: right;\n",
              "    }\n",
              "</style>\n",
              "<table border=\"1\" class=\"dataframe\">\n",
              "  <thead>\n",
              "    <tr style=\"text-align: right;\">\n",
              "      <th></th>\n",
              "      <th>title</th>\n",
              "      <th>text</th>\n",
              "      <th>subject</th>\n",
              "      <th>date</th>\n",
              "      <th>Label</th>\n",
              "    </tr>\n",
              "  </thead>\n",
              "  <tbody>\n",
              "    <tr>\n",
              "      <th>0</th>\n",
              "      <td>Did Ron Paul Just Confuse Al-Qaeda With ISIS,...</td>\n",
              "      <td>Former Texas Congressman Ron Paul added yet mo...</td>\n",
              "      <td>News</td>\n",
              "      <td>August 22, 2017</td>\n",
              "      <td>Fake</td>\n",
              "    </tr>\n",
              "    <tr>\n",
              "      <th>1</th>\n",
              "      <td>Congressional Black Caucus Signals That They ...</td>\n",
              "      <td>The Congressional Black Caucus, like most Demo...</td>\n",
              "      <td>News</td>\n",
              "      <td>August 21, 2017</td>\n",
              "      <td>Fake</td>\n",
              "    </tr>\n",
              "    <tr>\n",
              "      <th>2</th>\n",
              "      <td>Body-Slamming Republican Thought He Was Too I...</td>\n",
              "      <td>You may remember Greg Gianforte, the Republica...</td>\n",
              "      <td>News</td>\n",
              "      <td>August 21, 2017</td>\n",
              "      <td>Fake</td>\n",
              "    </tr>\n",
              "    <tr>\n",
              "      <th>3</th>\n",
              "      <td>Ron Paul Blames Obama For A Stock Market Cras...</td>\n",
              "      <td>Ron Paul, who s a retired doctor, not an econo...</td>\n",
              "      <td>News</td>\n",
              "      <td>August 21, 2017</td>\n",
              "      <td>Fake</td>\n",
              "    </tr>\n",
              "    <tr>\n",
              "      <th>4</th>\n",
              "      <td>GOP Lawmaker Blames Obama For Staging Racist ...</td>\n",
              "      <td>According to Republican lawmaker from Idaho, i...</td>\n",
              "      <td>News</td>\n",
              "      <td>August 21, 2017</td>\n",
              "      <td>Fake</td>\n",
              "    </tr>\n",
              "    <tr>\n",
              "      <th>5</th>\n",
              "      <td>Twitter Has Absolute Field Day Laughing At Tr...</td>\n",
              "      <td>Scientists have been warning the world for wee...</td>\n",
              "      <td>News</td>\n",
              "      <td>August 21, 2017</td>\n",
              "      <td>Fake</td>\n",
              "    </tr>\n",
              "    <tr>\n",
              "      <th>6</th>\n",
              "      <td>Donald Trump Never Met A Disaster He Couldn’t...</td>\n",
              "      <td>Back when conservative politics were actually ...</td>\n",
              "      <td>News</td>\n",
              "      <td>August 21, 2017</td>\n",
              "      <td>Fake</td>\n",
              "    </tr>\n",
              "    <tr>\n",
              "      <th>7</th>\n",
              "      <td>Thousands Of Advertisers Are Fleeing From Fak...</td>\n",
              "      <td>Donald Trump s former Chief Strategist Stephen...</td>\n",
              "      <td>News</td>\n",
              "      <td>August 21, 2017</td>\n",
              "      <td>Fake</td>\n",
              "    </tr>\n",
              "    <tr>\n",
              "      <th>8</th>\n",
              "      <td>Trump’s Response To USS John S. McCain Collis...</td>\n",
              "      <td>It s common knowledge that Donald Trump is a s...</td>\n",
              "      <td>News</td>\n",
              "      <td>August 21, 2017</td>\n",
              "      <td>Fake</td>\n",
              "    </tr>\n",
              "    <tr>\n",
              "      <th>9</th>\n",
              "      <td>Secret Service Officially Can’t Afford To Pay...</td>\n",
              "      <td>Donald Trump has been wasting taxpayer dollars...</td>\n",
              "      <td>News</td>\n",
              "      <td>August 21, 2017</td>\n",
              "      <td>Fake</td>\n",
              "    </tr>\n",
              "    <tr>\n",
              "      <th>10</th>\n",
              "      <td>U.S. court backs Trump in battle over interim ...</td>\n",
              "      <td>WASHINGTON (Reuters) - A U.S. District Court j...</td>\n",
              "      <td>politicsNews</td>\n",
              "      <td>November 28, 2017</td>\n",
              "      <td>True</td>\n",
              "    </tr>\n",
              "    <tr>\n",
              "      <th>11</th>\n",
              "      <td>Democrats skip Trump meeting, raising risk of ...</td>\n",
              "      <td>WASHINGTON (Reuters) - Democratic leaders in C...</td>\n",
              "      <td>politicsNews</td>\n",
              "      <td>November 28, 2017</td>\n",
              "      <td>True</td>\n",
              "    </tr>\n",
              "    <tr>\n",
              "      <th>12</th>\n",
              "      <td>Senate Republicans shove tax bill ahead as Dem...</td>\n",
              "      <td>WASHINGTON (Reuters) - U.S. Senate Republicans...</td>\n",
              "      <td>politicsNews</td>\n",
              "      <td>November 28, 2017</td>\n",
              "      <td>True</td>\n",
              "    </tr>\n",
              "    <tr>\n",
              "      <th>13</th>\n",
              "      <td>Congress government funding fight seen spillin...</td>\n",
              "      <td>WASHINGTON (Reuters) - Congress is likely to m...</td>\n",
              "      <td>politicsNews</td>\n",
              "      <td>November 28, 2017</td>\n",
              "      <td>True</td>\n",
              "    </tr>\n",
              "    <tr>\n",
              "      <th>14</th>\n",
              "      <td>Factbox: Republican senators to watch in tax b...</td>\n",
              "      <td>(Reuters) - U.S. Republicans made progress on ...</td>\n",
              "      <td>politicsNews</td>\n",
              "      <td>November 28, 2017</td>\n",
              "      <td>True</td>\n",
              "    </tr>\n",
              "    <tr>\n",
              "      <th>15</th>\n",
              "      <td>Trump to visit Utah next week, expected to ann...</td>\n",
              "      <td>WASHINGTON (Reuters) - President Donald Trump ...</td>\n",
              "      <td>politicsNews</td>\n",
              "      <td>November 28, 2017</td>\n",
              "      <td>True</td>\n",
              "    </tr>\n",
              "    <tr>\n",
              "      <th>16</th>\n",
              "      <td>Watchdog to depart DHS after tensions over U.S...</td>\n",
              "      <td>WASHINGTON (Reuters) - The U.S. Department of ...</td>\n",
              "      <td>politicsNews</td>\n",
              "      <td>November 28, 2017</td>\n",
              "      <td>True</td>\n",
              "    </tr>\n",
              "    <tr>\n",
              "      <th>17</th>\n",
              "      <td>Republican Senator Collins says talks on tax b...</td>\n",
              "      <td>WASHINGTON (Reuters) - Republican U.S. Senator...</td>\n",
              "      <td>politicsNews</td>\n",
              "      <td>November 28, 2017</td>\n",
              "      <td>True</td>\n",
              "    </tr>\n",
              "    <tr>\n",
              "      <th>18</th>\n",
              "      <td>Factbox: Trump on Twitter (Nov. 28) - NFL, Fir...</td>\n",
              "      <td>The following statements were posted to the ve...</td>\n",
              "      <td>politicsNews</td>\n",
              "      <td>November 28, 2017</td>\n",
              "      <td>True</td>\n",
              "    </tr>\n",
              "    <tr>\n",
              "      <th>19</th>\n",
              "      <td>Consumer agency official English says will be ...</td>\n",
              "      <td>WASHINGTON (Reuters) - Leandra English, who is...</td>\n",
              "      <td>politicsNews</td>\n",
              "      <td>November 28, 2017</td>\n",
              "      <td>True</td>\n",
              "    </tr>\n",
              "    <tr>\n",
              "      <th>20</th>\n",
              "      <td>U.S. Sen. Warren predicts appeal in legal batt...</td>\n",
              "      <td>WASHINGTON (Reuters) - U.S. Senator Elizabeth ...</td>\n",
              "      <td>politicsNews</td>\n",
              "      <td>November 28, 2017</td>\n",
              "      <td>True</td>\n",
              "    </tr>\n",
              "  </tbody>\n",
              "</table>\n",
              "</div>"
            ],
            "text/plain": [
              "                                                title  \\\n",
              "0    Did Ron Paul Just Confuse Al-Qaeda With ISIS,...   \n",
              "1    Congressional Black Caucus Signals That They ...   \n",
              "2    Body-Slamming Republican Thought He Was Too I...   \n",
              "3    Ron Paul Blames Obama For A Stock Market Cras...   \n",
              "4    GOP Lawmaker Blames Obama For Staging Racist ...   \n",
              "5    Twitter Has Absolute Field Day Laughing At Tr...   \n",
              "6    Donald Trump Never Met A Disaster He Couldn’t...   \n",
              "7    Thousands Of Advertisers Are Fleeing From Fak...   \n",
              "8    Trump’s Response To USS John S. McCain Collis...   \n",
              "9    Secret Service Officially Can’t Afford To Pay...   \n",
              "10  U.S. court backs Trump in battle over interim ...   \n",
              "11  Democrats skip Trump meeting, raising risk of ...   \n",
              "12  Senate Republicans shove tax bill ahead as Dem...   \n",
              "13  Congress government funding fight seen spillin...   \n",
              "14  Factbox: Republican senators to watch in tax b...   \n",
              "15  Trump to visit Utah next week, expected to ann...   \n",
              "16  Watchdog to depart DHS after tensions over U.S...   \n",
              "17  Republican Senator Collins says talks on tax b...   \n",
              "18  Factbox: Trump on Twitter (Nov. 28) - NFL, Fir...   \n",
              "19  Consumer agency official English says will be ...   \n",
              "20  U.S. Sen. Warren predicts appeal in legal batt...   \n",
              "\n",
              "                                                 text       subject  \\\n",
              "0   Former Texas Congressman Ron Paul added yet mo...          News   \n",
              "1   The Congressional Black Caucus, like most Demo...          News   \n",
              "2   You may remember Greg Gianforte, the Republica...          News   \n",
              "3   Ron Paul, who s a retired doctor, not an econo...          News   \n",
              "4   According to Republican lawmaker from Idaho, i...          News   \n",
              "5   Scientists have been warning the world for wee...          News   \n",
              "6   Back when conservative politics were actually ...          News   \n",
              "7   Donald Trump s former Chief Strategist Stephen...          News   \n",
              "8   It s common knowledge that Donald Trump is a s...          News   \n",
              "9   Donald Trump has been wasting taxpayer dollars...          News   \n",
              "10  WASHINGTON (Reuters) - A U.S. District Court j...  politicsNews   \n",
              "11  WASHINGTON (Reuters) - Democratic leaders in C...  politicsNews   \n",
              "12  WASHINGTON (Reuters) - U.S. Senate Republicans...  politicsNews   \n",
              "13  WASHINGTON (Reuters) - Congress is likely to m...  politicsNews   \n",
              "14  (Reuters) - U.S. Republicans made progress on ...  politicsNews   \n",
              "15  WASHINGTON (Reuters) - President Donald Trump ...  politicsNews   \n",
              "16  WASHINGTON (Reuters) - The U.S. Department of ...  politicsNews   \n",
              "17  WASHINGTON (Reuters) - Republican U.S. Senator...  politicsNews   \n",
              "18  The following statements were posted to the ve...  politicsNews   \n",
              "19  WASHINGTON (Reuters) - Leandra English, who is...  politicsNews   \n",
              "20  WASHINGTON (Reuters) - U.S. Senator Elizabeth ...  politicsNews   \n",
              "\n",
              "                  date Label  \n",
              "0      August 22, 2017  Fake  \n",
              "1      August 21, 2017  Fake  \n",
              "2      August 21, 2017  Fake  \n",
              "3      August 21, 2017  Fake  \n",
              "4      August 21, 2017  Fake  \n",
              "5      August 21, 2017  Fake  \n",
              "6      August 21, 2017  Fake  \n",
              "7      August 21, 2017  Fake  \n",
              "8      August 21, 2017  Fake  \n",
              "9      August 21, 2017  Fake  \n",
              "10  November 28, 2017   True  \n",
              "11  November 28, 2017   True  \n",
              "12  November 28, 2017   True  \n",
              "13  November 28, 2017   True  \n",
              "14  November 28, 2017   True  \n",
              "15  November 28, 2017   True  \n",
              "16  November 28, 2017   True  \n",
              "17  November 28, 2017   True  \n",
              "18  November 28, 2017   True  \n",
              "19  November 28, 2017   True  \n",
              "20  November 28, 2017   True  "
            ]
          },
          "execution_count": 30,
          "metadata": {},
          "output_type": "execute_result"
        }
      ],
      "source": [
        "df_manual"
      ]
    },
    {
      "cell_type": "code",
      "execution_count": 32,
      "metadata": {},
      "outputs": [],
      "source": [
        "import pickle\n",
        "filename = 'trained_model.sav'\n",
        "pickle.dump(lgr, open(filename, 'wb'))\n"
      ]
    },
    {
      "cell_type": "code",
      "execution_count": 33,
      "metadata": {},
      "outputs": [],
      "source": [
        "loaded_model = pickle.load(open('trained_model.sav', 'rb'))"
      ]
    }
  ],
  "metadata": {
    "colab": {
      "provenance": []
    },
    "kernelspec": {
      "display_name": "Deep_Learning_TF",
      "language": "python",
      "name": "python3"
    },
    "language_info": {
      "codemirror_mode": {
        "name": "ipython",
        "version": 3
      },
      "file_extension": ".py",
      "mimetype": "text/x-python",
      "name": "python",
      "nbconvert_exporter": "python",
      "pygments_lexer": "ipython3",
      "version": "3.10.15"
    }
  },
  "nbformat": 4,
  "nbformat_minor": 0
}
